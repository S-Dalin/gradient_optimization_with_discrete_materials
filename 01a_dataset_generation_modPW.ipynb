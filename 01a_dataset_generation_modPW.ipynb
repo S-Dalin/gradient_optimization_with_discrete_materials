{
 "cells": [
  {
   "cell_type": "markdown",
   "metadata": {},
   "source": [
    "## Data Generation Tutorial \n",
    "---"
   ]
  },
  {
   "cell_type": "markdown",
   "metadata": {},
   "source": [
    "This is the first tutorial to generate the dataset. \n",
    "We build a dataset using core radii between $1$\\,nm and $100$\\,nm and shell thickness between 1nm and 100nm. The allowed materials are the plasmonic metals gold (Au) and silver (Ag), as well as the dielectric materials  silicon (Si), silica (SiO2), silicon nitride (Si3N4), ZrO2, and TiO2. The visible light wavelength range is sampled with 64 points from 400nm to 800nm.\n",
    "\n",
    "It has 3 parts: \n",
    "1. Define the design parameters (it will calculate the total the configuration of the core-shell nanoparticles geometries)\n",
    "2. Calculate the Mie scattering and read material \n",
    "3. Loop and create dataframe and save in wide format. "
   ]
  },
  {
   "cell_type": "markdown",
   "metadata": {},
   "source": [
    "### <u> Import packages </u> "
   ]
  },
  {
   "cell_type": "code",
   "execution_count": 1,
   "metadata": {},
   "outputs": [],
   "source": [
    "import tqdm\n",
    "import numpy as np\n",
    "import pandas as pd\n",
    "import os\n",
    "import ast\n",
    "import re\n",
    "from joblib import Parallel, delayed, cpu_count\n",
    "import pymiecs"
   ]
  },
  {
   "cell_type": "markdown",
   "metadata": {},
   "source": [
    "###  Design Parameter \n",
    "---"
   ]
  },
  {
   "cell_type": "code",
   "execution_count": 2,
   "metadata": {},
   "outputs": [
    {
     "name": "stdout",
     "output_type": "stream",
     "text": [
      " Total configuration: 122500\n"
     ]
    }
   ],
   "source": [
    "core_radii = np.linspace(1, 100, 50, dtype=int)\n",
    "shell_thicknesses = np.linspace(1, 100, 50, dtype=int)\n",
    "\n",
    "N_materials = 7  # Si, SiO2, Au, Ag, Si3N4, ZrO2, TiO2\n",
    "\n",
    "# Total number of unique configurations including material choices for the core and each shell\n",
    "C_material = len(core_radii) * len(shell_thicknesses) * (N_materials**2)\n",
    "\n",
    "print(f\" Total configuration: {C_material}\")"
   ]
  },
  {
   "cell_type": "markdown",
   "metadata": {},
   "source": [
    "### Function to calculate scattering efficiency\n",
    "--- "
   ]
  },
  {
   "cell_type": "code",
   "execution_count": 3,
   "metadata": {},
   "outputs": [],
   "source": [
    "# %% --- Mie\n",
    "def get_Mie_spec(wavelengths, r_core, r_shell, mat_core, mat_shell, n_env):\n",
    "\n",
    "    k0 = 2 * np.pi / wavelengths\n",
    "    n_core = mat_core.get_refindex(wavelengths)\n",
    "    n_shell = mat_shell.get_refindex(wavelengths)\n",
    "\n",
    "    res = pymiecs.Q(\n",
    "        k0,\n",
    "        r_core=r_core,\n",
    "        n_core=n_core,\n",
    "        r_shell=r_shell,\n",
    "        n_shell=n_shell,\n",
    "        n_env=n_env.real**0.5,  # host medium must be lossless\n",
    "    )\n",
    "    return (\n",
    "        res[\"qsca\"],\n",
    "        res[\"qback\"],\n",
    "        res[\"qfwd\"],\n",
    "    )"
   ]
  },
  {
   "cell_type": "markdown",
   "metadata": {},
   "source": [
    "### Configuration to data frame "
   ]
  },
  {
   "cell_type": "code",
   "execution_count": 4,
   "metadata": {},
   "outputs": [],
   "source": [
    "# available materials\n",
    "Si = pymiecs.materials.MaterialDatabase(\"Si\")\n",
    "SiO2 = pymiecs.materials.MaterialDatabase(\"SiO2\")\n",
    "Si3N4 = pymiecs.materials.MaterialDatabase(\"Si3N4\")\n",
    "Au = pymiecs.materials.MaterialDatabase(\"Au\")\n",
    "Ag = pymiecs.materials.MaterialDatabase(\"Ag\")\n",
    "ZrO2 = pymiecs.materials.MaterialDatabase(\"ZrO2\")\n",
    "TiO2 = pymiecs.materials.MaterialDatabase(\"TiO2\")\n",
    "\n",
    "material_keys = {\n",
    "    \"Si\": Si,\n",
    "    \"SiO2\": SiO2,\n",
    "    \"Au\": Au,\n",
    "    \"Ag\": Ag,\n",
    "    \"Si3N4\": Si3N4,\n",
    "    \"ZrO2\": ZrO2,\n",
    "    \"TiO2\": TiO2,\n",
    "}\n",
    "\n",
    "\n",
    "# Wavelength range for the scattering efficiency\n",
    "wavelengths = np.linspace(400, 800, 64)  # From 400 nm to 800 nm with 64 points\n",
    "n_env = 1.0"
   ]
  },
  {
   "cell_type": "markdown",
   "metadata": {},
   "source": [
    "###  Configuration to data frame \n",
    "---\n",
    "The code cell below take sometimes to run. \n"
   ]
  },
  {
   "cell_type": "code",
   "execution_count": 5,
   "metadata": {},
   "outputs": [
    {
     "name": "stderr",
     "output_type": "stream",
     "text": [
      "generate configurations...: 100%|██████████| 50/50 [00:00<00:00, 614.92it/s]\n",
      "parallel Mie evaluation...: 100%|██████████| 122500/122500 [00:27<00:00, 4477.82it/s]\n",
      "gather results...: 100%|██████████| 122500/122500 [00:00<00:00, 1911971.69it/s]\n",
      "/tmp/ipykernel_4021/2351780462.py:69: PerformanceWarning: \n",
      "your performance may suffer as PyTables will pickle object types that it cannot\n",
      "map directly to c-types [inferred_type->mixed,key->block1_values] [items->Index(['mat_core', 'mat_shell', 'wavelength', 'Q_sca', 'Q_back', 'Q_fwd'], dtype='object')]\n",
      "\n",
      "  results_pd.to_hdf(hdf5_file_name, key=\"all_configurations\", mode=\"w\")\n"
     ]
    },
    {
     "data": {
      "text/html": [
       "<div>\n",
       "<style scoped>\n",
       "    .dataframe tbody tr th:only-of-type {\n",
       "        vertical-align: middle;\n",
       "    }\n",
       "\n",
       "    .dataframe tbody tr th {\n",
       "        vertical-align: top;\n",
       "    }\n",
       "\n",
       "    .dataframe thead th {\n",
       "        text-align: right;\n",
       "    }\n",
       "</style>\n",
       "<table border=\"1\" class=\"dataframe\">\n",
       "  <thead>\n",
       "    <tr style=\"text-align: right;\">\n",
       "      <th></th>\n",
       "      <th>mat_core</th>\n",
       "      <th>mat_shell</th>\n",
       "      <th>r_core</th>\n",
       "      <th>r_shell</th>\n",
       "      <th>wavelength</th>\n",
       "      <th>Q_sca</th>\n",
       "      <th>Q_back</th>\n",
       "      <th>Q_fwd</th>\n",
       "    </tr>\n",
       "  </thead>\n",
       "  <tbody>\n",
       "    <tr>\n",
       "      <th>0</th>\n",
       "      <td>Si</td>\n",
       "      <td>Si</td>\n",
       "      <td>1</td>\n",
       "      <td>2</td>\n",
       "      <td>[400.0, 406.3492063492063, 412.6984126984127, ...</td>\n",
       "      <td>[2.160839086497138e-06, 2.0034967444389105e-06...</td>\n",
       "      <td>[3.2335562550935324e-06, 2.998696933738639e-06...</td>\n",
       "      <td>[3.2489628896450263e-06, 3.0117948478578218e-0...</td>\n",
       "    </tr>\n",
       "    <tr>\n",
       "      <th>1</th>\n",
       "      <td>Si</td>\n",
       "      <td>SiO2</td>\n",
       "      <td>1</td>\n",
       "      <td>2</td>\n",
       "      <td>[400.0, 406.3492063492063, 412.6984126984127, ...</td>\n",
       "      <td>[3.9143528694988674e-07, 3.6438451909391766e-0...</td>\n",
       "      <td>[5.868605004574553e-07, 5.463176494864911e-07,...</td>\n",
       "      <td>[5.874454060091694e-07, 5.468359469672797e-07,...</td>\n",
       "    </tr>\n",
       "    <tr>\n",
       "      <th>2</th>\n",
       "      <td>Si</td>\n",
       "      <td>Au</td>\n",
       "      <td>1</td>\n",
       "      <td>2</td>\n",
       "      <td>[400.0, 406.3492063492063, 412.6984126984127, ...</td>\n",
       "      <td>[2.661388159757844e-06, 2.482639350607367e-06,...</td>\n",
       "      <td>[3.991253362741102e-06, 3.7232254787413343e-06...</td>\n",
       "      <td>[3.9929111630654836e-06, 3.724692610081799e-06...</td>\n",
       "    </tr>\n",
       "    <tr>\n",
       "      <th>3</th>\n",
       "      <td>Si</td>\n",
       "      <td>Ag</td>\n",
       "      <td>1</td>\n",
       "      <td>2</td>\n",
       "      <td>[400.0, 406.3492063492063, 412.6984126984127, ...</td>\n",
       "      <td>[6.066105540702947e-06, 5.1301735397936126e-06...</td>\n",
       "      <td>[9.09914972315353e-06, 7.69545855523609e-06, 6...</td>\n",
       "      <td>[9.099166460968062e-06, 7.695061658089138e-06,...</td>\n",
       "    </tr>\n",
       "    <tr>\n",
       "      <th>4</th>\n",
       "      <td>Si</td>\n",
       "      <td>Si3N4</td>\n",
       "      <td>1</td>\n",
       "      <td>2</td>\n",
       "      <td>[400.0, 406.3492063492063, 412.6984126984127, ...</td>\n",
       "      <td>[9.57380852593803e-07, 8.912867496023798e-07, ...</td>\n",
       "      <td>[1.4351768921144704e-06, 1.3361307534275836e-0...</td>\n",
       "      <td>[1.4369658329245613e-06, 1.3377296403994528e-0...</td>\n",
       "    </tr>\n",
       "  </tbody>\n",
       "</table>\n",
       "</div>"
      ],
      "text/plain": [
       "  mat_core mat_shell  r_core  r_shell  \\\n",
       "0       Si        Si       1        2   \n",
       "1       Si      SiO2       1        2   \n",
       "2       Si        Au       1        2   \n",
       "3       Si        Ag       1        2   \n",
       "4       Si     Si3N4       1        2   \n",
       "\n",
       "                                          wavelength  \\\n",
       "0  [400.0, 406.3492063492063, 412.6984126984127, ...   \n",
       "1  [400.0, 406.3492063492063, 412.6984126984127, ...   \n",
       "2  [400.0, 406.3492063492063, 412.6984126984127, ...   \n",
       "3  [400.0, 406.3492063492063, 412.6984126984127, ...   \n",
       "4  [400.0, 406.3492063492063, 412.6984126984127, ...   \n",
       "\n",
       "                                               Q_sca  \\\n",
       "0  [2.160839086497138e-06, 2.0034967444389105e-06...   \n",
       "1  [3.9143528694988674e-07, 3.6438451909391766e-0...   \n",
       "2  [2.661388159757844e-06, 2.482639350607367e-06,...   \n",
       "3  [6.066105540702947e-06, 5.1301735397936126e-06...   \n",
       "4  [9.57380852593803e-07, 8.912867496023798e-07, ...   \n",
       "\n",
       "                                              Q_back  \\\n",
       "0  [3.2335562550935324e-06, 2.998696933738639e-06...   \n",
       "1  [5.868605004574553e-07, 5.463176494864911e-07,...   \n",
       "2  [3.991253362741102e-06, 3.7232254787413343e-06...   \n",
       "3  [9.09914972315353e-06, 7.69545855523609e-06, 6...   \n",
       "4  [1.4351768921144704e-06, 1.3361307534275836e-0...   \n",
       "\n",
       "                                               Q_fwd  \n",
       "0  [3.2489628896450263e-06, 3.0117948478578218e-0...  \n",
       "1  [5.874454060091694e-07, 5.468359469672797e-07,...  \n",
       "2  [3.9929111630654836e-06, 3.724692610081799e-06...  \n",
       "3  [9.099166460968062e-06, 7.695061658089138e-06,...  \n",
       "4  [1.4369658329245613e-06, 1.3377296403994528e-0...  "
      ]
     },
     "execution_count": 5,
     "metadata": {},
     "output_type": "execute_result"
    }
   ],
   "source": [
    "# save file name\n",
    "hdf5_file_name = \"datasets/core_shell_particles_raw_122500.h5\"\n",
    "\n",
    "# Prepare to store the results\n",
    "results = []\n",
    "configs = []\n",
    "configs_matkeys = []\n",
    "# generate all configurations\n",
    "for idx in tqdm.tqdm(range(len(core_radii)), desc=\"generate configurations...\"):\n",
    "    r_core = core_radii[idx]\n",
    "    for t_shell in shell_thicknesses:\n",
    "        r_shell = r_core + t_shell\n",
    "\n",
    "        # create all material permutations\n",
    "        configs += [\n",
    "            (r_core, r_shell, material_keys[m_c_key], material_keys[m_s_key])\n",
    "            for m_c_key in material_keys\n",
    "            for m_s_key in material_keys\n",
    "        ]\n",
    "\n",
    "        # keep also material keys for database\n",
    "        configs_matkeys += [\n",
    "            (m_c_key, m_s_key) for m_c_key in material_keys for m_s_key in material_keys\n",
    "        ]\n",
    "\n",
    "\n",
    "# multiprocessing call function\n",
    "def call_mie(r_core, r_shell, mat_core, mat_shell):\n",
    "    return get_Mie_spec(\n",
    "        wavelengths=wavelengths,\n",
    "        r_core=r_core,\n",
    "        r_shell=r_shell,\n",
    "        mat_core=mat_core,\n",
    "        mat_shell=mat_shell,\n",
    "        n_env=n_env,\n",
    "    )\n",
    "\n",
    "\n",
    "# run all configs in multiprocessing\n",
    "parallel = Parallel(n_jobs=cpu_count() // 2)  # physical cores\n",
    "out = parallel(\n",
    "    delayed(call_mie)(*conf)\n",
    "    for conf in tqdm.tqdm(configs, desc=\"parallel Mie evaluation...\")\n",
    ")\n",
    "\n",
    "\n",
    "# save all configs\n",
    "all_results_as_list_of_dicts = []\n",
    "for i_conf in tqdm.tqdm(range(len(out)), desc=\"gather results...\"):\n",
    "    _res = out[i_conf]\n",
    "    r_c = configs[i_conf][0]\n",
    "    r_s = configs[i_conf][1]\n",
    "    t_s = r_s - r_c\n",
    "    Qscat, Qback, Qfwd = _res\n",
    "    sample = {\n",
    "        \"mat_core\": configs_matkeys[i_conf][0],\n",
    "        \"mat_shell\": configs_matkeys[i_conf][1],\n",
    "        \"r_core\": r_c,\n",
    "        \"r_shell\": r_s,\n",
    "        \"wavelength\": wavelengths,\n",
    "        \"Q_sca\": Qscat,\n",
    "        \"Q_back\": Qback,\n",
    "        \"Q_fwd\": Qfwd,\n",
    "    }\n",
    "    all_results_as_list_of_dicts.append(sample)\n",
    "\n",
    "\n",
    "# print save pandas dataframe to hdf5\n",
    "results_pd = pd.DataFrame.from_dict(all_results_as_list_of_dicts)\n",
    "results_pd.to_hdf(hdf5_file_name, key=\"all_configurations\", mode=\"w\")\n",
    "\n",
    "results_pd.head()"
   ]
  },
  {
   "cell_type": "markdown",
   "metadata": {},
   "source": [
    "### Verification: Plot some random sample"
   ]
  },
  {
   "cell_type": "code",
   "execution_count": 6,
   "metadata": {},
   "outputs": [
    {
     "name": "stdout",
     "output_type": "stream",
     "text": [
      "test sample # 3922: \n",
      "core / shell radii: 3 64\n",
      "core / shell mat.: Si Au\n",
      "test sample # 30056: \n",
      "core / shell radii: 25 52\n",
      "core / shell mat.: Au ZrO2\n",
      "test sample # 51465: \n",
      "core / shell radii: 43 44\n",
      "core / shell mat.: Au SiO2\n",
      "test sample # 14643: \n",
      "core / shell radii: 11 108\n",
      "core / shell mat.: ZrO2 TiO2\n"
     ]
    },
    {
     "data": {
      "image/png": "[encoded data removed]",
      "text/plain": [
       "<Figure size 640x480 with 4 Axes>"
      ]
     },
     "metadata": {},
     "output_type": "display_data"
    }
   ],
   "source": [
    "import matplotlib.pyplot as plt\n",
    "\n",
    "\n",
    "for i in range(4):\n",
    "    idx_test = np.random.randint(len(results_pd[\"r_core\"]))\n",
    "\n",
    "    print(\"test sample # {}: \".format(idx_test))\n",
    "    print(\n",
    "        \"core / shell radii:\",\n",
    "        results_pd[\"r_core\"][idx_test],\n",
    "        results_pd[\"r_shell\"][idx_test],\n",
    "    )\n",
    "    print(\n",
    "        \"core / shell mat.:\",\n",
    "        results_pd[\"mat_core\"][idx_test],\n",
    "        results_pd[\"mat_shell\"][idx_test],\n",
    "    )\n",
    "\n",
    "    # - recalculate for comparison\n",
    "    recalc_spec = get_Mie_spec(\n",
    "        results_pd[\"wavelength\"][idx_test],\n",
    "        results_pd[\"r_core\"][idx_test],\n",
    "        results_pd[\"r_shell\"][idx_test],\n",
    "        material_keys[results_pd[\"mat_core\"][idx_test]],\n",
    "        material_keys[results_pd[\"mat_shell\"][idx_test]],\n",
    "        n_env,\n",
    "    )\n",
    "    plt.subplot(2, 2, i + 1)\n",
    "    plt.plot(\n",
    "        results_pd[\"wavelength\"][idx_test],\n",
    "        results_pd[\"Q_fwd\"][idx_test],\n",
    "        label=f\"sample #{idx_test}\",\n",
    "    )\n",
    "    plt.plot(\n",
    "        results_pd[\"wavelength\"][idx_test],\n",
    "        recalc_spec[2],\n",
    "        label=\"re-calc.\",\n",
    "        dashes=[2, 2],\n",
    "    )\n",
    "    plt.legend()\n",
    "plt.show()"
   ]
  }
 ],
 "metadata": {
  "kernelspec": {
   "display_name": ".pykeras",
   "language": "python",
   "name": "python3"
  },
  "language_info": {
   "codemirror_mode": {
    "name": "ipython",
    "version": 3
   },
   "file_extension": ".py",
   "mimetype": "text/x-python",
   "name": "python",
   "nbconvert_exporter": "python",
   "pygments_lexer": "ipython3",
   "version": "3.11.11"
  }
 },
 "nbformat": 4,
 "nbformat_minor": 2
}
