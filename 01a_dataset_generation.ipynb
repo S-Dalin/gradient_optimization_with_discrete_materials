{
 "cells": [
  {
   "cell_type": "markdown",
   "metadata": {},
   "source": [
    "## Data Generation Tutorial \n",
    "---"
   ]
  },
  {
   "cell_type": "markdown",
   "metadata": {},
   "source": [
    "This is the first tutorial to generate the dataset. \n",
    "We build a dataset using core radii between $1$\\,nm and $100$\\,nm and shell thickness between 1nm and 100nm. The allowed materials are the plasmonic metals gold (Au) and silver (Ag), as well as the dielectric materials  silicon (Si), silica (SiO2), silicon nitride (Si3N4), ZrO2, and TiO2. The visible light wavelength range is sampled with 64 points from 400nm to 800nm.\n",
    "\n",
    "It has 3 parts: \n",
    "1. Define the design parameters (it will calculate the total the configuration of the core-shell nanoparticles geometries)\n",
    "2. Calculate the Mie scattering and read material \n",
    "3. Loop and create dataframe and save in wide format. "
   ]
  },
  {
   "cell_type": "markdown",
   "metadata": {},
   "source": [
    "### <u> Import packages </u> "
   ]
  },
  {
   "cell_type": "code",
   "execution_count": 1,
   "metadata": {},
   "outputs": [],
   "source": [
    "import tqdm\n",
    "import numpy as np\n",
    "import pandas as pd\n",
    "import os\n",
    "import ast\n",
    "import re\n",
    "from joblib import Parallel, delayed, cpu_count\n",
    "import pymiecs"
   ]
  },
  {
   "cell_type": "markdown",
   "metadata": {},
   "source": [
    "###  Design Parameter \n",
    "---"
   ]
  },
  {
   "cell_type": "code",
   "execution_count": 2,
   "metadata": {},
   "outputs": [
    {
     "name": "stdout",
     "output_type": "stream",
     "text": [
      " Total configuration: 122500\n"
     ]
    }
   ],
   "source": [
    "core_radii = np.linspace(1, 100, 50, dtype=int)\n",
    "shell_thicknesses = np.linspace(1, 100, 50, dtype=int)\n",
    "\n",
    "N_materials = 7  # Si, SiO2, Au, Ag, Si3N4, ZrO2, TiO2\n",
    "\n",
    "# Total number of unique configurations including material choices for the core and each shell\n",
    "C_material = len(core_radii) * len(shell_thicknesses) * (N_materials**2)\n",
    "\n",
    "print(f\" Total configuration: {C_material}\")"
   ]
  },
  {
   "cell_type": "markdown",
   "metadata": {},
   "source": [
    "### Function to calculate scattering efficiency\n",
    "--- "
   ]
  },
  {
   "cell_type": "code",
   "execution_count": 3,
   "metadata": {},
   "outputs": [],
   "source": [
    "# %% --- Mie\n",
    "def get_Mie_spec(wavelengths, r_core, r_shell, mat_core, mat_shell, n_env):\n",
    "\n",
    "    k0 = 2 * np.pi / wavelengths\n",
    "    n_core = mat_core.get_refindex(wavelengths)\n",
    "    n_shell = mat_shell.get_refindex(wavelengths)\n",
    "\n",
    "    res = pymiecs.Q(\n",
    "        k0,\n",
    "        r_core=r_core,\n",
    "        n_core=n_core,\n",
    "        r_shell=r_shell,\n",
    "        n_shell=n_shell,\n",
    "        n_env=n_env.real**0.5,  # host medium must be lossless\n",
    "    )\n",
    "    return (\n",
    "        res[\"qsca\"],\n",
    "        res[\"qback\"],\n",
    "        res[\"qfwd\"],\n",
    "    )"
   ]
  },
  {
   "cell_type": "markdown",
   "metadata": {},
   "source": [
    "### Configuration to data frame "
   ]
  },
  {
   "cell_type": "code",
   "execution_count": 4,
   "metadata": {},
   "outputs": [],
   "source": [
    "# available materials\n",
    "Si = pymiecs.materials.MaterialDatabase(\"Si\")\n",
    "SiO2 = pymiecs.materials.MaterialDatabase(\"SiO2\")\n",
    "Si3N4 = pymiecs.materials.MaterialDatabase(\"Si3N4\")\n",
    "Au = pymiecs.materials.MaterialDatabase(\"Au\")\n",
    "Ag = pymiecs.materials.MaterialDatabase(\"Ag\")\n",
    "ZrO2 = pymiecs.materials.MaterialDatabase(\"ZrO2\")\n",
    "TiO2 = pymiecs.materials.MaterialDatabase(\"TiO2\")\n",
    "\n",
    "material_keys = {\n",
    "    \"Si\": Si,\n",
    "    \"SiO2\": SiO2,\n",
    "    \"Au\": Au,\n",
    "    \"Ag\": Ag,\n",
    "    \"Si3N4\": Si3N4,\n",
    "    \"ZrO2\": ZrO2,\n",
    "    \"TiO2\": TiO2,\n",
    "}\n",
    "\n",
    "\n",
    "# Wavelength range for the scattering efficiency\n",
    "wavelengths = np.linspace(400, 800, 64)  # From 400 nm to 800 nm with 64 points\n",
    "n_env = 1.0"
   ]
  },
  {
   "cell_type": "markdown",
   "metadata": {},
   "source": [
    "###  Configuration to data frame \n",
    "---\n",
    "The code cell below take sometimes to run. \n"
   ]
  },
  {
   "cell_type": "code",
   "execution_count": 5,
   "metadata": {},
   "outputs": [
    {
     "name": "stderr",
     "output_type": "stream",
     "text": [
      "generate configurations...: 100%|██████████| 50/50 [00:00<00:00, 268.92it/s]\n",
      "parallel Mie evaluation...: 100%|██████████| 122500/122500 [00:22<00:00, 5375.24it/s]\n",
      "gather results...: 100%|██████████| 122500/122500 [00:00<00:00, 907641.50it/s]\n",
      "/tmp/ipykernel_2770455/4266422180.py:70: PerformanceWarning: \n",
      "your performance may suffer as PyTables will pickle object types that it cannot\n",
      "map directly to c-types [inferred_type->mixed,key->block1_values] [items->Index(['mat_core', 'mat_shell', 'wavelength', 'Q_sca', 'Q_back', 'Q_fwd'], dtype='object')]\n",
      "\n",
      "  results_pd.to_hdf(hdf5_file_name, key=\"all_configurations\", mode=\"w\")\n"
     ]
    },
    {
     "data": {
      "application/vnd.microsoft.datawrangler.viewer.v0+json": {
       "columns": [
        {
         "name": "index",
         "rawType": "int64",
         "type": "integer"
        },
        {
         "name": "mat_core",
         "rawType": "object",
         "type": "string"
        },
        {
         "name": "mat_shell",
         "rawType": "object",
         "type": "string"
        },
        {
         "name": "r_core",
         "rawType": "int64",
         "type": "integer"
        },
        {
         "name": "r_shell",
         "rawType": "int64",
         "type": "integer"
        },
        {
         "name": "wavelength",
         "rawType": "object",
         "type": "unknown"
        },
        {
         "name": "Q_sca",
         "rawType": "object",
         "type": "unknown"
        },
        {
         "name": "Q_back",
         "rawType": "object",
         "type": "unknown"
        },
        {
         "name": "Q_fwd",
         "rawType": "object",
         "type": "unknown"
        }
       ],
       "conversionMethod": "pd.DataFrame",
       "ref": "47a27b71-93e3-4aac-9027-66759291aadf",
       "rows": [
        [
         "0",
         "Si",
         "Si",
         "1",
         "2",
         "[400.         406.34920635 412.6984127  419.04761905 425.3968254\n 431.74603175 438.0952381  444.44444444 450.79365079 457.14285714\n 463.49206349 469.84126984 476.19047619 482.53968254 488.88888889\n 495.23809524 501.58730159 507.93650794 514.28571429 520.63492063\n 526.98412698 533.33333333 539.68253968 546.03174603 552.38095238\n 558.73015873 565.07936508 571.42857143 577.77777778 584.12698413\n 590.47619048 596.82539683 603.17460317 609.52380952 615.87301587\n 622.22222222 628.57142857 634.92063492 641.26984127 647.61904762\n 653.96825397 660.31746032 666.66666667 673.01587302 679.36507937\n 685.71428571 692.06349206 698.41269841 704.76190476 711.11111111\n 717.46031746 723.80952381 730.15873016 736.50793651 742.85714286\n 749.20634921 755.55555556 761.9047619  768.25396825 774.6031746\n 780.95238095 787.3015873  793.65079365 800.        ]",
         "[2.16083909e-06 2.00349674e-06 1.85889204e-06 1.72716966e-06\n 1.60911265e-06 1.50094854e-06 1.40287550e-06 1.31326725e-06\n 1.23068683e-06 1.15504886e-06 1.08520942e-06 1.02059022e-06\n 9.61404195e-07 9.06448592e-07 8.55541204e-07 8.08111825e-07\n 7.63837161e-07 7.22669207e-07 6.84334931e-07 6.48518319e-07\n 6.15224948e-07 5.83931313e-07 5.54495232e-07 5.27439528e-07\n 5.01882880e-07 4.77629426e-07 4.54877551e-07 4.33464714e-07\n 4.13355199e-07 3.94529144e-07 3.76817661e-07 3.60059311e-07\n 3.44191452e-07 3.29158436e-07 3.15017466e-07 3.01625718e-07\n 2.88940536e-07 2.76922917e-07 2.65526491e-07 2.54746934e-07\n 2.44455970e-07 2.34650547e-07 2.25485451e-07 2.16727979e-07\n 2.08353568e-07 2.00346724e-07 1.92741441e-07 1.85552613e-07\n 1.78671591e-07 1.72094011e-07 1.65810045e-07 1.59817209e-07\n 1.54095461e-07 1.48622532e-07 1.43421331e-07 1.38484593e-07\n 1.33689984e-07 1.29103993e-07 1.24746420e-07 1.20555888e-07\n 1.16537146e-07 1.12709229e-07 1.09025978e-07 1.05483098e-07]",
         "[3.23355626e-06 2.99869693e-06 2.78275167e-06 2.58595623e-06\n 2.40949804e-06 2.24778056e-06 2.10110784e-06 1.96706445e-06\n 1.84351232e-06 1.73032695e-06 1.62580421e-06 1.52908231e-06\n 1.44048053e-06 1.35820392e-06 1.28198090e-06 1.21095993e-06\n 1.14465814e-06 1.08300407e-06 1.02558986e-06 9.71943213e-07\n 9.22072697e-07 8.75195471e-07 8.31098888e-07 7.90565348e-07\n 7.52276348e-07 7.15938778e-07 6.81849535e-07 6.49765423e-07\n 6.19633040e-07 5.91422720e-07 5.64881700e-07 5.39768315e-07\n 5.15988787e-07 4.93459807e-07 4.72267052e-07 4.52196675e-07\n 4.33184811e-07 4.15173059e-07 3.98091985e-07 3.81935126e-07\n 3.66510355e-07 3.51813101e-07 3.38075241e-07 3.24948204e-07\n 3.12395193e-07 3.00392997e-07 2.88992546e-07 2.78216165e-07\n 2.67901078e-07 2.58040749e-07 2.48620452e-07 2.39636471e-07\n 2.31058776e-07 2.22854002e-07 2.15056483e-07 2.07655333e-07\n 2.00467235e-07 1.93591824e-07 1.87058776e-07 1.80776112e-07\n 1.74750949e-07 1.69011817e-07 1.63489539e-07 1.58177678e-07]",
         "[3.24896289e-06 3.01179485e-06 2.79392572e-06 2.59555381e-06\n 2.41784080e-06 2.25506582e-06 2.10751929e-06 1.97273784e-06\n 1.84854864e-06 1.73482004e-06 1.62982441e-06 1.53268866e-06\n 1.44373232e-06 1.36114210e-06 1.28464292e-06 1.21337573e-06\n 1.14685351e-06 1.08500370e-06 1.02741506e-06 9.73611859e-07\n 9.23602249e-07 8.76598562e-07 8.32386890e-07 7.91753311e-07\n 7.53372360e-07 7.16949562e-07 6.82783172e-07 6.50628769e-07\n 6.20432603e-07 5.92164752e-07 5.65571319e-07 5.40409652e-07\n 5.16585599e-07 4.94015530e-07 4.72785371e-07 4.52680501e-07\n 4.33636818e-07 4.15595710e-07 3.98487505e-07 3.82305692e-07\n 3.66857570e-07 3.52138553e-07 3.38381126e-07 3.25235745e-07\n 3.12665521e-07 3.00647185e-07 2.89231786e-07 2.78441683e-07\n 2.68113702e-07 2.58241292e-07 2.48809689e-07 2.39815163e-07\n 2.31227612e-07 2.23013598e-07 2.15207517e-07 2.07798450e-07\n 2.00602721e-07 1.93720159e-07 1.87180488e-07 1.80891557e-07\n 1.74860493e-07 1.69115874e-07 1.63588399e-07 1.58271620e-07]"
        ],
        [
         "1",
         "Si",
         "SiO2",
         "1",
         "2",
         "[400.         406.34920635 412.6984127  419.04761905 425.3968254\n 431.74603175 438.0952381  444.44444444 450.79365079 457.14285714\n 463.49206349 469.84126984 476.19047619 482.53968254 488.88888889\n 495.23809524 501.58730159 507.93650794 514.28571429 520.63492063\n 526.98412698 533.33333333 539.68253968 546.03174603 552.38095238\n 558.73015873 565.07936508 571.42857143 577.77777778 584.12698413\n 590.47619048 596.82539683 603.17460317 609.52380952 615.87301587\n 622.22222222 628.57142857 634.92063492 641.26984127 647.61904762\n 653.96825397 660.31746032 666.66666667 673.01587302 679.36507937\n 685.71428571 692.06349206 698.41269841 704.76190476 711.11111111\n 717.46031746 723.80952381 730.15873016 736.50793651 742.85714286\n 749.20634921 755.55555556 761.9047619  768.25396825 774.6031746\n 780.95238095 787.3015873  793.65079365 800.        ]",
         "[3.91435287e-07 3.64384519e-07 3.39528349e-07 3.16790732e-07\n 2.96166403e-07 2.77208485e-07 2.59871873e-07 2.43938515e-07\n 2.29216101e-07 2.15650297e-07 2.03087576e-07 1.91434425e-07\n 1.80677887e-07 1.70670586e-07 1.61367283e-07 1.52688024e-07\n 1.44579003e-07 1.37014886e-07 1.29950553e-07 1.23338501e-07\n 1.17163472e-07 1.11361082e-07 1.05904635e-07 1.00831602e-07\n 9.60471386e-08 9.15225266e-08 8.72672136e-08 8.32571281e-08\n 7.94808864e-08 7.59292230e-08 7.25793790e-08 6.94098510e-08\n 6.64089321e-08 6.35660046e-08 6.08814281e-08 5.83371555e-08\n 5.59248790e-08 5.36369440e-08 5.14652770e-08 4.94059960e-08\n 4.74438931e-08 4.55756796e-08 4.38129786e-08 4.21314539e-08\n 4.05263748e-08 3.89940151e-08 3.75353989e-08 3.61498999e-08\n 3.48255359e-08 3.35601456e-08 3.23511673e-08 3.11968223e-08\n 3.00937967e-08 2.90386601e-08 2.80322503e-08 2.70726827e-08\n 2.61474969e-08 2.52617816e-08 2.44163582e-08 2.36046015e-08\n 2.28260563e-08 2.20816353e-08 2.13662782e-08 2.06788370e-08]",
         "[5.86860500e-07 5.46317649e-07 5.09062216e-07 4.74980593e-07\n 4.44065221e-07 4.15646830e-07 3.89657990e-07 3.65772084e-07\n 3.43701009e-07 3.23363405e-07 3.04529236e-07 2.87058385e-07\n 2.70931477e-07 2.55927640e-07 2.41979092e-07 2.28965999e-07\n 2.16807726e-07 2.05466310e-07 1.94874129e-07 1.84959980e-07\n 1.75701004e-07 1.67000684e-07 1.58819004e-07 1.51212158e-07\n 1.44037952e-07 1.37253331e-07 1.30872468e-07 1.24859278e-07\n 1.19196696e-07 1.13870837e-07 1.08847578e-07 1.04094679e-07\n 9.95945915e-08 9.53313961e-08 9.13056356e-08 8.74902507e-08\n 8.38727865e-08 8.04417664e-08 7.71850863e-08 7.40969266e-08\n 7.11544836e-08 6.83528271e-08 6.57093892e-08 6.31876762e-08\n 6.07805949e-08 5.84825587e-08 5.62951043e-08 5.42172937e-08\n 5.22311586e-08 5.03334584e-08 4.85203525e-08 4.67891739e-08\n 4.51349535e-08 4.35525474e-08 4.20432128e-08 4.06041237e-08\n 3.92165936e-08 3.78882545e-08 3.66203391e-08 3.54029113e-08\n 3.42352889e-08 3.31188411e-08 3.20459792e-08 3.10149818e-08]",
         "[5.87445406e-07 5.46835947e-07 5.09522865e-07 4.75391634e-07\n 4.44434014e-07 4.15978647e-07 3.89957650e-07 3.66043478e-07\n 3.43947308e-07 3.23587499e-07 3.04733504e-07 2.87244900e-07\n 2.71102193e-07 2.56084126e-07 2.42122765e-07 2.29098078e-07\n 2.16929290e-07 2.05578353e-07 1.94977535e-07 1.85055527e-07\n 1.75789417e-07 1.67082566e-07 1.58894903e-07 1.51282650e-07\n 1.44103467e-07 1.37314251e-07 1.30929175e-07 1.24912109e-07\n 1.19245965e-07 1.13916834e-07 1.08890561e-07 1.04134875e-07\n 9.96322059e-08 9.53666189e-08 9.13386499e-08 8.75212167e-08\n 8.39018516e-08 8.04690664e-08 7.72107456e-08 7.41210622e-08\n 7.11771964e-08 6.83742123e-08 6.57295471e-08 6.32066859e-08\n 6.07985298e-08 5.84994871e-08 5.63110928e-08 5.42324063e-08\n 5.22454495e-08 5.03469786e-08 4.85331497e-08 4.68012933e-08\n 4.51464368e-08 4.35634331e-08 4.20535384e-08 4.06139246e-08\n 3.92258973e-08 3.78970903e-08 3.66287358e-08 3.54108935e-08\n 3.42428802e-08 3.31260648e-08 3.20528554e-08 3.10215294e-08]"
        ],
        [
         "2",
         "Si",
         "Au",
         "1",
         "2",
         "[400.         406.34920635 412.6984127  419.04761905 425.3968254\n 431.74603175 438.0952381  444.44444444 450.79365079 457.14285714\n 463.49206349 469.84126984 476.19047619 482.53968254 488.88888889\n 495.23809524 501.58730159 507.93650794 514.28571429 520.63492063\n 526.98412698 533.33333333 539.68253968 546.03174603 552.38095238\n 558.73015873 565.07936508 571.42857143 577.77777778 584.12698413\n 590.47619048 596.82539683 603.17460317 609.52380952 615.87301587\n 622.22222222 628.57142857 634.92063492 641.26984127 647.61904762\n 653.96825397 660.31746032 666.66666667 673.01587302 679.36507937\n 685.71428571 692.06349206 698.41269841 704.76190476 711.11111111\n 717.46031746 723.80952381 730.15873016 736.50793651 742.85714286\n 749.20634921 755.55555556 761.9047619  768.25396825 774.6031746\n 780.95238095 787.3015873  793.65079365 800.        ]",
         "[2.66138816e-06 2.48263935e-06 2.31753180e-06 2.16295876e-06\n 2.02313814e-06 1.89701366e-06 1.79147933e-06 1.69482467e-06\n 1.60564276e-06 1.51945930e-06 1.43988894e-06 1.36640536e-06\n 1.32911846e-06 1.30959152e-06 1.29866849e-06 1.29596218e-06\n 1.33864661e-06 1.37129591e-06 1.37538015e-06 1.34280532e-06\n 1.23911735e-06 1.12830638e-06 1.01853746e-06 9.15824836e-07\n 8.18966754e-07 7.28457808e-07 6.44702048e-07 5.66851891e-07\n 4.94663924e-07 4.27816170e-07 3.67431054e-07 3.16664476e-07\n 2.82814541e-07 2.84011680e-07 3.60655448e-07 5.81962112e-07\n 1.03107337e-06 1.59659771e-06 1.86454260e-06 1.74510607e-06\n 1.49839967e-06 1.26631222e-06 1.07885614e-06 9.37767923e-07\n 8.28834683e-07 7.42539180e-07 6.72966039e-07 6.15799255e-07\n 5.67269064e-07 5.24534461e-07 4.87640562e-07 4.55426893e-07\n 4.26972959e-07 4.01585711e-07 3.78837433e-07 3.58313940e-07\n 3.39490700e-07 3.21831380e-07 3.05693519e-07 2.90840453e-07\n 2.77131952e-07 2.64460850e-07 2.52673981e-07 2.41682239e-07]",
         "[3.99125336e-06 3.72322548e-06 3.47564660e-06 3.24385441e-06\n 3.03418046e-06 2.84504405e-06 2.68678774e-06 2.54184548e-06\n 2.40810789e-06 2.27886067e-06 2.15953018e-06 2.04932735e-06\n 1.99342386e-06 1.96415915e-06 1.94779728e-06 1.94375804e-06\n 2.00782005e-06 2.05683386e-06 2.06300223e-06 2.01418200e-06\n 1.85868810e-06 1.69250265e-06 1.52787357e-06 1.37382299e-06\n 1.22854887e-06 1.09279399e-06 9.67165343e-07 8.50391998e-07\n 7.42109186e-07 6.41834242e-07 5.51250662e-07 4.75091856e-07\n 4.24304685e-07 4.26084774e-07 5.41033983e-07 8.72986346e-07\n 1.54667672e-06 2.39503340e-06 2.79702754e-06 2.61790852e-06\n 2.24785256e-06 1.89971174e-06 1.61851396e-06 1.40686899e-06\n 1.24345780e-06 1.11400444e-06 1.00963571e-06 9.23877452e-07\n 8.51074761e-07 7.86966074e-07 7.31618963e-07 6.83292639e-07\n 6.40606289e-07 6.02520285e-07 5.68393026e-07 5.37603200e-07\n 5.09363956e-07 4.82870959e-07 4.58660344e-07 4.36377076e-07\n 4.15810800e-07 3.96800761e-07 3.79117195e-07 3.62626438e-07]",
         "[3.99291116e-06 3.72469261e-06 3.47694883e-06 3.24502190e-06\n 3.03523399e-06 2.84599694e-06 2.68765028e-06 2.54262856e-06\n 2.40882040e-06 2.27951723e-06 2.16013665e-06 2.04988874e-06\n 1.99393154e-06 1.96461541e-06 1.94820819e-06 1.94412850e-06\n 2.00811977e-06 2.05705386e-06 2.06313819e-06 2.01423394e-06\n 1.85866392e-06 1.69241645e-06 1.52773879e-06 1.37365149e-06\n 1.22835136e-06 1.09257940e-06 9.66940769e-07 8.50163646e-07\n 7.41882557e-07 6.41614241e-07 5.51042475e-07 4.74901549e-07\n 4.24138915e-07 4.25950247e-07 5.40932341e-07 8.72899972e-07\n 1.54654337e-06 2.39475970e-06 2.79660024e-06 2.61740967e-06\n 2.24734643e-06 1.89922489e-06 1.61805442e-06 1.40643476e-06\n 1.24304623e-06 1.11361309e-06 1.00926238e-06 9.23520296e-07\n 8.50732417e-07 7.86637295e-07 7.31302710e-07 6.82988028e-07\n 6.40312577e-07 6.02236837e-07 5.68119263e-07 5.37338609e-07\n 5.09108134e-07 4.82623170e-07 4.58420203e-07 4.36144275e-07\n 4.15585048e-07 3.96581781e-07 3.78904739e-07 3.62420271e-07]"
        ],
        [
         "3",
         "Si",
         "Ag",
         "1",
         "2",
         "[400.         406.34920635 412.6984127  419.04761905 425.3968254\n 431.74603175 438.0952381  444.44444444 450.79365079 457.14285714\n 463.49206349 469.84126984 476.19047619 482.53968254 488.88888889\n 495.23809524 501.58730159 507.93650794 514.28571429 520.63492063\n 526.98412698 533.33333333 539.68253968 546.03174603 552.38095238\n 558.73015873 565.07936508 571.42857143 577.77777778 584.12698413\n 590.47619048 596.82539683 603.17460317 609.52380952 615.87301587\n 622.22222222 628.57142857 634.92063492 641.26984127 647.61904762\n 653.96825397 660.31746032 666.66666667 673.01587302 679.36507937\n 685.71428571 692.06349206 698.41269841 704.76190476 711.11111111\n 717.46031746 723.80952381 730.15873016 736.50793651 742.85714286\n 749.20634921 755.55555556 761.9047619  768.25396825 774.6031746\n 780.95238095 787.3015873  793.65079365 800.        ]",
         "[6.06610554e-06 5.13017354e-06 4.38979481e-06 3.80971215e-06\n 3.33556219e-06 2.93454107e-06 2.59852415e-06 2.30736940e-06\n 2.05024974e-06 1.81133537e-06 1.59780723e-06 1.40452525e-06\n 1.23296296e-06 1.07425886e-06 9.26349320e-07 7.85113595e-07\n 6.42822846e-07 5.03819257e-07 3.68352431e-07 2.39497595e-07\n 1.36892653e-07 1.60175908e-07 7.95781377e-07 3.96521894e-06\n 9.43731714e-06 6.98126852e-06 4.39823555e-06 3.09754063e-06\n 2.38755003e-06 1.94394614e-06 1.63311702e-06 1.41259145e-06\n 1.24702952e-06 1.11738824e-06 1.01339867e-06 9.27803268e-07\n 8.55207289e-07 7.92597593e-07 7.37854225e-07 6.89575421e-07\n 6.46354636e-07 6.07316115e-07 5.71503942e-07 5.38992628e-07\n 5.09330888e-07 4.82161577e-07 4.57251427e-07 4.34363605e-07\n 4.13139508e-07 3.93100467e-07 3.74503405e-07 3.57208572e-07\n 3.41080105e-07 3.25999543e-07 3.11893013e-07 2.98673804e-07\n 2.86203144e-07 2.74393602e-07 2.63277184e-07 2.52779443e-07\n 2.42859039e-07 2.33483091e-07 2.24597253e-07 2.16168295e-07]",
         "[9.09914972e-06 7.69545856e-06 6.58503102e-06 5.71499363e-06\n 5.00382385e-06 4.40232551e-06 3.89831545e-06 3.46158800e-06\n 3.07590513e-06 2.71752957e-06 2.39722697e-06 2.10728830e-06\n 1.84992456e-06 1.61184442e-06 1.38995316e-06 1.17806927e-06\n 9.64598913e-07 7.56053641e-07 5.52805637e-07 3.59463156e-07\n 2.05471301e-07 2.40261811e-07 1.19344760e-06 5.94756938e-06\n 1.41565037e-05 1.04728394e-05 6.59818976e-06 4.64703281e-06\n 3.58196242e-06 2.91649364e-06 2.45020069e-06 2.11937314e-06\n 1.87099781e-06 1.67650824e-06 1.52049989e-06 1.39208553e-06\n 1.28317237e-06 1.18924033e-06 1.10710918e-06 1.03467609e-06\n 9.69831032e-07 9.11260323e-07 8.57530358e-07 8.08752351e-07\n 7.64249309e-07 7.23485462e-07 6.86110879e-07 6.51770275e-07\n 6.19925696e-07 5.89859342e-07 5.61956310e-07 5.36006952e-07\n 5.11807452e-07 4.89180098e-07 4.68014072e-07 4.48179290e-07\n 4.29467566e-07 4.11747827e-07 3.95067998e-07 3.79316385e-07\n 3.64430970e-07 3.50362425e-07 3.37029218e-07 3.24381500e-07]",
         "[9.09916646e-06 7.69506166e-06 6.58435303e-06 5.71414248e-06\n 5.00286241e-06 4.40129742e-06 3.89725673e-06 3.46051997e-06\n 3.07484387e-06 2.71647634e-06 2.39619454e-06 2.10628726e-06\n 1.84896417e-06 1.61093202e-06 1.38909467e-06 1.17727140e-06\n 9.63869517e-07 7.55404032e-07 5.52251573e-07 3.59029557e-07\n 2.05206600e-07 2.40265870e-07 1.19389649e-06 5.94808740e-06\n 1.41554476e-05 1.04709660e-05 6.59651679e-06 4.64558900e-06\n 3.58068761e-06 2.91534471e-06 2.44915031e-06 2.11840115e-06\n 1.87009069e-06 1.67565645e-06 1.51969608e-06 1.39132423e-06\n 1.28244946e-06 1.18855241e-06 1.10645346e-06 1.03405014e-06\n 9.69232844e-07 9.10687994e-07 8.56981439e-07 8.08225507e-07\n 7.63743332e-07 7.22999246e-07 6.85643379e-07 6.51320519e-07\n 6.19492809e-07 5.89442040e-07 5.61553889e-07 5.35618749e-07\n 5.11432848e-07 4.88818514e-07 4.67664952e-07 4.47842110e-07\n 4.29141853e-07 4.11432965e-07 3.94763543e-07 3.79021934e-07\n 3.64146138e-07 3.50086840e-07 3.36762531e-07 3.24123376e-07]"
        ],
        [
         "4",
         "Si",
         "Si3N4",
         "1",
         "2",
         "[400.         406.34920635 412.6984127  419.04761905 425.3968254\n 431.74603175 438.0952381  444.44444444 450.79365079 457.14285714\n 463.49206349 469.84126984 476.19047619 482.53968254 488.88888889\n 495.23809524 501.58730159 507.93650794 514.28571429 520.63492063\n 526.98412698 533.33333333 539.68253968 546.03174603 552.38095238\n 558.73015873 565.07936508 571.42857143 577.77777778 584.12698413\n 590.47619048 596.82539683 603.17460317 609.52380952 615.87301587\n 622.22222222 628.57142857 634.92063492 641.26984127 647.61904762\n 653.96825397 660.31746032 666.66666667 673.01587302 679.36507937\n 685.71428571 692.06349206 698.41269841 704.76190476 711.11111111\n 717.46031746 723.80952381 730.15873016 736.50793651 742.85714286\n 749.20634921 755.55555556 761.9047619  768.25396825 774.6031746\n 780.95238095 787.3015873  793.65079365 800.        ]",
         "[9.57380853e-07 8.91286750e-07 8.30655670e-07 7.75218052e-07\n 7.24848599e-07 6.78567301e-07 6.36199220e-07 5.97242142e-07\n 5.61256424e-07 5.28076608e-07 4.97352947e-07 4.68858118e-07\n 4.42522546e-07 4.18026484e-07 3.95248008e-07 3.74004036e-07\n 3.54163877e-07 3.35652580e-07 3.18360913e-07 3.02177760e-07\n 2.87053615e-07 2.72850534e-07 2.59501845e-07 2.47059349e-07\n 2.35334694e-07 2.24261916e-07 2.13845567e-07 2.04030120e-07\n 1.94784036e-07 1.86080457e-07 1.77868960e-07 1.70102212e-07\n 1.62751241e-07 1.55789635e-07 1.49211183e-07 1.42977200e-07\n 1.37066937e-07 1.31461247e-07 1.26140616e-07 1.21093359e-07\n 1.16287999e-07 1.11714585e-07 1.07389891e-07 1.03267102e-07\n 9.93344913e-08 9.55823412e-08 9.20095345e-08 8.86122009e-08\n 8.53665856e-08 8.22664701e-08 7.93050783e-08 7.64771531e-08\n 7.37748621e-08 7.11902954e-08 6.87231639e-08 6.63684902e-08\n 6.41028278e-08 6.19336592e-08 5.98610407e-08 5.78720481e-08\n 5.59646602e-08 5.41393166e-08 5.23860629e-08 5.07018618e-08]",
         "[1.43517689e-06 1.33613075e-06 1.24526728e-06 1.16218344e-06\n 1.08669229e-06 1.01732601e-06 9.53822912e-07 8.95430770e-07\n 8.41490995e-07 7.91755862e-07 7.45701386e-07 7.02987022e-07\n 6.63508649e-07 6.26787117e-07 5.92639782e-07 5.60792297e-07\n 5.31048833e-07 5.03297115e-07 4.77373461e-07 4.53111351e-07\n 4.30436626e-07 4.09142522e-07 3.89129125e-07 3.70474148e-07\n 3.52895227e-07 3.36293489e-07 3.20675789e-07 3.05958899e-07\n 2.92095554e-07 2.79045506e-07 2.66733168e-07 2.55087586e-07\n 2.44065331e-07 2.33626814e-07 2.23762738e-07 2.14415105e-07\n 2.05552811e-07 1.97147158e-07 1.89168889e-07 1.81600495e-07\n 1.74394777e-07 1.67536823e-07 1.61051794e-07 1.54869489e-07\n 1.48972331e-07 1.43345751e-07 1.37988078e-07 1.32893513e-07\n 1.28026436e-07 1.23377524e-07 1.18936620e-07 1.14695842e-07\n 1.10643447e-07 1.06767576e-07 1.03067797e-07 9.95366485e-08\n 9.61389692e-08 9.28859826e-08 8.97777751e-08 8.67949658e-08\n 8.39345249e-08 8.11971130e-08 7.85678026e-08 7.60420398e-08]",
         "[1.43696583e-06 1.33772964e-06 1.24669985e-06 1.16347083e-06\n 1.08785360e-06 1.01837598e-06 9.54774821e-07 8.96295721e-07\n 8.42278337e-07 7.92474015e-07 7.46357500e-07 7.03587374e-07\n 6.64059026e-07 6.27292368e-07 5.93104271e-07 5.61219838e-07\n 5.31442821e-07 5.03660645e-07 4.77709296e-07 4.53421946e-07\n 4.30724235e-07 4.09409095e-07 3.89376423e-07 3.70703909e-07\n 3.53108864e-07 3.36492268e-07 3.20860920e-07 3.06131468e-07\n 2.92256561e-07 2.79195872e-07 2.66873717e-07 2.55219057e-07\n 2.44188397e-07 2.33742094e-07 2.23870815e-07 2.14516499e-07\n 2.05648003e-07 1.97236587e-07 1.89252961e-07 1.81679586e-07\n 1.74469221e-07 1.67606934e-07 1.61117883e-07 1.54931818e-07\n 1.49031145e-07 1.43401274e-07 1.38040527e-07 1.32943091e-07\n 1.28073322e-07 1.23421887e-07 1.18978616e-07 1.14735618e-07\n 1.10681140e-07 1.06803311e-07 1.03101695e-07 9.95688231e-08\n 9.61695151e-08 9.29149958e-08 8.98053475e-08 8.68211791e-08\n 8.39594563e-08 8.12208373e-08 7.85903865e-08 7.60635462e-08]"
        ]
       ],
       "shape": {
        "columns": 8,
        "rows": 5
       }
      },
      "text/html": [
       "<div>\n",
       "<style scoped>\n",
       "    .dataframe tbody tr th:only-of-type {\n",
       "        vertical-align: middle;\n",
       "    }\n",
       "\n",
       "    .dataframe tbody tr th {\n",
       "        vertical-align: top;\n",
       "    }\n",
       "\n",
       "    .dataframe thead th {\n",
       "        text-align: right;\n",
       "    }\n",
       "</style>\n",
       "<table border=\"1\" class=\"dataframe\">\n",
       "  <thead>\n",
       "    <tr style=\"text-align: right;\">\n",
       "      <th></th>\n",
       "      <th>mat_core</th>\n",
       "      <th>mat_shell</th>\n",
       "      <th>r_core</th>\n",
       "      <th>r_shell</th>\n",
       "      <th>wavelength</th>\n",
       "      <th>Q_sca</th>\n",
       "      <th>Q_back</th>\n",
       "      <th>Q_fwd</th>\n",
       "    </tr>\n",
       "  </thead>\n",
       "  <tbody>\n",
       "    <tr>\n",
       "      <th>0</th>\n",
       "      <td>Si</td>\n",
       "      <td>Si</td>\n",
       "      <td>1</td>\n",
       "      <td>2</td>\n",
       "      <td>[400.0, 406.3492063492063, 412.6984126984127, ...</td>\n",
       "      <td>[2.160839086497138e-06, 2.0034967444389096e-06...</td>\n",
       "      <td>[3.2335562550935324e-06, 2.998696933738638e-06...</td>\n",
       "      <td>[3.2489628896450263e-06, 3.0117948478578205e-0...</td>\n",
       "    </tr>\n",
       "    <tr>\n",
       "      <th>1</th>\n",
       "      <td>Si</td>\n",
       "      <td>SiO2</td>\n",
       "      <td>1</td>\n",
       "      <td>2</td>\n",
       "      <td>[400.0, 406.3492063492063, 412.6984126984127, ...</td>\n",
       "      <td>[3.9143528694988674e-07, 3.6438451909391744e-0...</td>\n",
       "      <td>[5.868605004574553e-07, 5.463176494864905e-07,...</td>\n",
       "      <td>[5.874454060091694e-07, 5.468359469672794e-07,...</td>\n",
       "    </tr>\n",
       "    <tr>\n",
       "      <th>2</th>\n",
       "      <td>Si</td>\n",
       "      <td>Au</td>\n",
       "      <td>1</td>\n",
       "      <td>2</td>\n",
       "      <td>[400.0, 406.3492063492063, 412.6984126984127, ...</td>\n",
       "      <td>[2.6613881597578463e-06, 2.482639350607367e-06...</td>\n",
       "      <td>[3.991253362741106e-06, 3.7232254787413343e-06...</td>\n",
       "      <td>[3.992911163065486e-06, 3.724692610081798e-06,...</td>\n",
       "    </tr>\n",
       "    <tr>\n",
       "      <th>3</th>\n",
       "      <td>Si</td>\n",
       "      <td>Ag</td>\n",
       "      <td>1</td>\n",
       "      <td>2</td>\n",
       "      <td>[400.0, 406.3492063492063, 412.6984126984127, ...</td>\n",
       "      <td>[6.066105540702947e-06, 5.130173539793614e-06,...</td>\n",
       "      <td>[9.09914972315353e-06, 7.695458555236092e-06, ...</td>\n",
       "      <td>[9.099166460968062e-06, 7.69506165808914e-06, ...</td>\n",
       "    </tr>\n",
       "    <tr>\n",
       "      <th>4</th>\n",
       "      <td>Si</td>\n",
       "      <td>Si3N4</td>\n",
       "      <td>1</td>\n",
       "      <td>2</td>\n",
       "      <td>[400.0, 406.3492063492063, 412.6984126984127, ...</td>\n",
       "      <td>[9.57380852593803e-07, 8.912867496023801e-07, ...</td>\n",
       "      <td>[1.4351768921144704e-06, 1.3361307534275844e-0...</td>\n",
       "      <td>[1.4369658329245613e-06, 1.3377296403994528e-0...</td>\n",
       "    </tr>\n",
       "  </tbody>\n",
       "</table>\n",
       "</div>"
      ],
      "text/plain": [
       "  mat_core mat_shell  r_core  r_shell  \\\n",
       "0       Si        Si       1        2   \n",
       "1       Si      SiO2       1        2   \n",
       "2       Si        Au       1        2   \n",
       "3       Si        Ag       1        2   \n",
       "4       Si     Si3N4       1        2   \n",
       "\n",
       "                                          wavelength  \\\n",
       "0  [400.0, 406.3492063492063, 412.6984126984127, ...   \n",
       "1  [400.0, 406.3492063492063, 412.6984126984127, ...   \n",
       "2  [400.0, 406.3492063492063, 412.6984126984127, ...   \n",
       "3  [400.0, 406.3492063492063, 412.6984126984127, ...   \n",
       "4  [400.0, 406.3492063492063, 412.6984126984127, ...   \n",
       "\n",
       "                                               Q_sca  \\\n",
       "0  [2.160839086497138e-06, 2.0034967444389096e-06...   \n",
       "1  [3.9143528694988674e-07, 3.6438451909391744e-0...   \n",
       "2  [2.6613881597578463e-06, 2.482639350607367e-06...   \n",
       "3  [6.066105540702947e-06, 5.130173539793614e-06,...   \n",
       "4  [9.57380852593803e-07, 8.912867496023801e-07, ...   \n",
       "\n",
       "                                              Q_back  \\\n",
       "0  [3.2335562550935324e-06, 2.998696933738638e-06...   \n",
       "1  [5.868605004574553e-07, 5.463176494864905e-07,...   \n",
       "2  [3.991253362741106e-06, 3.7232254787413343e-06...   \n",
       "3  [9.09914972315353e-06, 7.695458555236092e-06, ...   \n",
       "4  [1.4351768921144704e-06, 1.3361307534275844e-0...   \n",
       "\n",
       "                                               Q_fwd  \n",
       "0  [3.2489628896450263e-06, 3.0117948478578205e-0...  \n",
       "1  [5.874454060091694e-07, 5.468359469672794e-07,...  \n",
       "2  [3.992911163065486e-06, 3.724692610081798e-06,...  \n",
       "3  [9.099166460968062e-06, 7.69506165808914e-06, ...  \n",
       "4  [1.4369658329245613e-06, 1.3377296403994528e-0...  "
      ]
     },
     "execution_count": 5,
     "metadata": {},
     "output_type": "execute_result"
    }
   ],
   "source": [
    "# save file name\n",
    "hdf5_file_name = \"datasets/core_shell_particles_raw_122500.h5\"\n",
    "\n",
    "# Prepare to store the results\n",
    "results = []\n",
    "configs = []\n",
    "configs_matkeys = []\n",
    "# generate all configurations\n",
    "for idx in tqdm.tqdm(range(len(core_radii)), desc=\"generate configurations...\"):\n",
    "    r_core = core_radii[idx]\n",
    "    for t_shell in shell_thicknesses:\n",
    "        r_shell = r_core + t_shell\n",
    "\n",
    "        # create all material permutations\n",
    "        configs += [\n",
    "            (r_core, r_shell, material_keys[m_c_key], material_keys[m_s_key])\n",
    "            for m_c_key in material_keys\n",
    "            for m_s_key in material_keys\n",
    "        ]\n",
    "\n",
    "        # keep also material keys for database\n",
    "        configs_matkeys += [\n",
    "            (m_c_key, m_s_key) for m_c_key in material_keys for m_s_key in material_keys\n",
    "        ]\n",
    "\n",
    "\n",
    "# multiprocessing call function\n",
    "def call_mie(r_core, r_shell, mat_core, mat_shell):\n",
    "    return get_Mie_spec(\n",
    "        wavelengths=wavelengths,\n",
    "        r_core=r_core,\n",
    "        r_shell=r_shell,\n",
    "        mat_core=mat_core,\n",
    "        mat_shell=mat_shell,\n",
    "        n_env=n_env,\n",
    "    )\n",
    "\n",
    "\n",
    "# run all configs in multiprocessing\n",
    "parallel = Parallel(n_jobs=cpu_count() // 2)  # physical cores\n",
    "out = parallel(\n",
    "    delayed(call_mie)(*conf)\n",
    "    for conf in tqdm.tqdm(configs, desc=\"parallel Mie evaluation...\")\n",
    ")\n",
    "\n",
    "\n",
    "# save all configs\n",
    "all_results_as_list_of_dicts = []\n",
    "for i_conf in tqdm.tqdm(range(len(out)), desc=\"gather results...\"):\n",
    "    _res = out[i_conf]\n",
    "    r_c = configs[i_conf][0]\n",
    "    r_s = configs[i_conf][1]\n",
    "    t_s = r_s - r_c\n",
    "    Qscat, Qback, Qfwd = _res\n",
    "    sample = {\n",
    "        \"mat_core\": configs_matkeys[i_conf][0],\n",
    "        \"mat_shell\": configs_matkeys[i_conf][1],\n",
    "        \"r_core\": r_c,\n",
    "        \"r_shell\": r_s,\n",
    "        \"wavelength\": wavelengths,\n",
    "        \"Q_sca\": Qscat,\n",
    "        \"Q_back\": Qback,\n",
    "        \"Q_fwd\": Qfwd,\n",
    "    }\n",
    "    all_results_as_list_of_dicts.append(sample)\n",
    "\n",
    "\n",
    "# print save pandas dataframe to hdf5\n",
    "results_pd = pd.DataFrame.from_dict(all_results_as_list_of_dicts)\n",
    "results_pd.to_hdf(hdf5_file_name, key=\"all_configurations\", mode=\"w\")\n",
    "\n",
    "results_pd.head()"
   ]
  },
  {
   "cell_type": "markdown",
   "metadata": {},
   "source": [
    "### Verification: Plot some random sample"
   ]
  },
  {
   "cell_type": "code",
   "execution_count": 6,
   "metadata": {},
   "outputs": [
    {
     "name": "stdout",
     "output_type": "stream",
     "text": [
      "test sample # 81159: \n",
      "core / shell radii: 67 80\n",
      "core / shell mat.: Au SiO2\n",
      "test sample # 39788: \n",
      "core / shell radii: 33 58\n",
      "core / shell mat.: Si Si\n",
      "test sample # 92579: \n",
      "core / shell radii: 75 154\n",
      "core / shell mat.: Au Si3N4\n",
      "test sample # 82126: \n",
      "core / shell radii: 67 120\n",
      "core / shell mat.: Si Au\n"
     ]
    },
    {
     "data": {
      "image/png": "[encoded data removed]",
      "text/plain": [
       "<Figure size 640x480 with 4 Axes>"
      ]
     },
     "metadata": {},
     "output_type": "display_data"
    }
   ],
   "source": [
    "import matplotlib.pyplot as plt\n",
    "\n",
    "\n",
    "for i in range(4):\n",
    "    idx_test = np.random.randint(len(results_pd[\"r_core\"]))\n",
    "\n",
    "    print(\"test sample # {}: \".format(idx_test))\n",
    "    print(\n",
    "        \"core / shell radii:\",\n",
    "        results_pd[\"r_core\"][idx_test],\n",
    "        results_pd[\"r_shell\"][idx_test],\n",
    "    )\n",
    "    print(\n",
    "        \"core / shell mat.:\",\n",
    "        results_pd[\"mat_core\"][idx_test],\n",
    "        results_pd[\"mat_shell\"][idx_test],\n",
    "    )\n",
    "\n",
    "    # - recalculate for comparison\n",
    "    recalc_spec = get_Mie_spec(\n",
    "        results_pd[\"wavelength\"][idx_test],\n",
    "        results_pd[\"r_core\"][idx_test],\n",
    "        results_pd[\"r_shell\"][idx_test],\n",
    "        material_keys[results_pd[\"mat_core\"][idx_test]],\n",
    "        material_keys[results_pd[\"mat_shell\"][idx_test]],\n",
    "        n_env,\n",
    "    )\n",
    "    plt.subplot(2, 2, i + 1)\n",
    "    plt.plot(\n",
    "        results_pd[\"wavelength\"][idx_test],\n",
    "        results_pd[\"Q_fwd\"][idx_test],\n",
    "        label=f\"sample #{idx_test}\",\n",
    "    )\n",
    "    plt.plot(\n",
    "        results_pd[\"wavelength\"][idx_test],\n",
    "        recalc_spec[2],\n",
    "        label=\"re-calc.\",\n",
    "        dashes=[2, 2],\n",
    "    )\n",
    "    plt.legend()\n",
    "plt.show()"
   ]
  }
 ],
 "metadata": {
  "kernelspec": {
   "display_name": ".py312",
   "language": "python",
   "name": "python3"
  },
  "language_info": {
   "codemirror_mode": {
    "name": "ipython",
    "version": 3
   },
   "file_extension": ".py",
   "mimetype": "text/x-python",
   "name": "python",
   "nbconvert_exporter": "python",
   "pygments_lexer": "ipython3",
   "version": "3.12.3"
  }
 },
 "nbformat": 4,
 "nbformat_minor": 2
}
